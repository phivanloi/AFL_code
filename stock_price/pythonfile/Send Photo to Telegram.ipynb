{
 "cells": [
  {
   "cell_type": "code",
   "execution_count": 4,
   "metadata": {},
   "outputs": [
    {
     "name": "stdout",
     "output_type": "stream",
     "text": [
      "<Response [200]>\n"
     ]
    }
   ],
   "source": [
    "import requests\n",
    "\n",
    "files = {'photo': open(\"C:\\\\Program Files\\\\AmiBroker\\\\ExportedImages\\\\test12345.png\", 'rb')}\n",
    "         \n",
    "TelegramAPI_ID = \"1200942736:AAEG8y9qyJ7aHefUm4vt_xKqkNBxfKd3qCc\";\n",
    "TelgramCHAT_ID = \"@Victor_AlgoTrading\";\n",
    "\n",
    "resp = requests.post(\"https://api.telegram.org/bot\"+ TelegramAPI_ID + \"/sendPhoto?chat_id=\"+TelgramCHAT_ID, files=files)\n",
    "\n",
    "print(resp)\n",
    "\n",
    "\n"
   ]
  },
  {
   "cell_type": "code",
   "execution_count": 3,
   "metadata": {},
   "outputs": [
    {
     "data": {
      "text/plain": [
       "'c:\\\\Users\\\\Admins\\\\Desktop\\\\stock_price'"
      ]
     },
     "execution_count": 3,
     "metadata": {},
     "output_type": "execute_result"
    }
   ],
   "source": [
    "%pwd"
   ]
  },
  {
   "cell_type": "code",
   "execution_count": null,
   "metadata": {},
   "outputs": [],
   "source": [
    "%ls"
   ]
  },
  {
   "cell_type": "code",
   "execution_count": 12,
   "metadata": {},
   "outputs": [
    {
     "name": "stdout",
     "output_type": "stream",
     "text": [
      "C:\\\\Program Files\\\\AmiBroker\\\\ExportedImages\\VHM 30-minute 2022-10-29 11.37.08.png\n",
      "C:\\\\Program Files\\\\AmiBroker\\\\ExportedImages\\Screenshot_5.png\n",
      "<function getctime at 0x0000022960AAAC10>\n"
     ]
    }
   ],
   "source": [
    "import glob\n",
    "import os.path\n",
    "\n",
    "folder_path = r'C:\\\\Program Files\\\\AmiBroker\\\\ExportedImages'\n",
    "file_type = r'\\*png'\n",
    "files = glob.glob(folder_path + file_type)\n",
    "max_file = max(files, key=os.path.getctime)\n",
    "min_file = min(files, key=os.path.getctime)\n",
    "print(max_file)\n",
    "print(min_file)\n",
    "print(os.path.getctime)\n",
    "\n",
    "\n",
    "# print(file_type)"
   ]
  },
  {
   "cell_type": "code",
   "execution_count": 16,
   "metadata": {},
   "outputs": [
    {
     "name": "stdout",
     "output_type": "stream",
     "text": [
      "C:\\\\Program Files\\\\AmiBroker\\\\ExportedImages\\AC4 15-minute 2022-10-29 14.50.32.png 1667029832.4303763\n",
      "C:\\\\Program Files\\\\AmiBroker\\\\ExportedImages\\APC 15-minute 2022-10-29 14.50.33.png 1667029833.6230533\n",
      "C:\\\\Program Files\\\\AmiBroker\\\\ExportedImages\\BHG 15-minute 2022-10-29 14.50.34.png 1667029834.5991254\n",
      "C:\\\\Program Files\\\\AmiBroker\\\\ExportedImages\\BSH 15-minute 2022-10-29 14.50.36.png 1667029836.60435\n",
      "C:\\\\Program Files\\\\AmiBroker\\\\ExportedImages\\BVN 15-minute 2022-10-29 14.50.36.png 1667029836.3568099\n",
      "C:\\\\Program Files\\\\AmiBroker\\\\ExportedImages\\C32 15-minute 2022-10-29 14.50.37.png 1667029837.7353494\n",
      "C:\\\\Program Files\\\\AmiBroker\\\\ExportedImages\\CC4 15-minute 2022-10-29 14.50.37.png 1667029837.9741\n",
      "C:\\\\Program Files\\\\AmiBroker\\\\ExportedImages\\CFPT2016 15-minute 2022-10-29 14.50.38.png 1667029838.6913111\n",
      "C:\\\\Program Files\\\\AmiBroker\\\\ExportedImages\\CHPG2018 15-minute 2022-10-29 14.50.39.png 1667029840.073561\n",
      "C:\\\\Program Files\\\\AmiBroker\\\\ExportedImages\\CMBB2003 15-minute 2022-10-29 14.50.40.png 1667029840.474561\n",
      "C:\\\\Program Files\\\\AmiBroker\\\\ExportedImages\\CMSN1901 15-minute 2022-10-29 14.50.40.png 1667029840.7305634\n",
      "C:\\\\Program Files\\\\AmiBroker\\\\ExportedImages\\CMWG1902 15-minute 2022-10-29 14.50.40.png 1667029841.3262248\n",
      "C:\\\\Program Files\\\\AmiBroker\\\\ExportedImages\\CNVL2101 15-minute 2022-10-29 14.50.41.png 1667029842.0912523\n",
      "C:\\\\Program Files\\\\AmiBroker\\\\ExportedImages\\CREE2004 15-minute 2022-10-29 14.50.42.png 1667029842.614259\n",
      "C:\\\\Program Files\\\\AmiBroker\\\\ExportedImages\\CSM 15-minute 2022-10-29 14.50.42.png 1667029842.8545032\n",
      "C:\\\\Program Files\\\\AmiBroker\\\\ExportedImages\\CSTB2104 15-minute 2022-10-29 14.50.43.png 1667029843.734815\n",
      "C:\\\\Program Files\\\\AmiBroker\\\\ExportedImages\\CTCB2012 15-minute 2022-10-29 14.50.43.png 1667029843.988815\n",
      "C:\\\\Program Files\\\\AmiBroker\\\\ExportedImages\\CVJC2003 15-minute 2022-10-29 14.50.45.png 1667029845.583501\n",
      "C:\\\\Program Files\\\\AmiBroker\\\\ExportedImages\\CVNM2003 15-minute 2022-10-29 14.50.45.png 1667029846.0856297\n",
      "C:\\\\Program Files\\\\AmiBroker\\\\ExportedImages\\CVNM2005 15-minute 2022-10-29 14.50.45.png 1667029845.834461\n",
      "C:\\\\Program Files\\\\AmiBroker\\\\ExportedImages\\CYC 15-minute 2022-10-29 14.50.46.png 1667029847.1076508\n",
      "C:\\\\Program Files\\\\AmiBroker\\\\ExportedImages\\ddd - Copy.png 1666979334.471192\n",
      "C:\\\\Program Files\\\\AmiBroker\\\\ExportedImages\\ddd.png 1666890834.322666\n",
      "C:\\\\Program Files\\\\AmiBroker\\\\ExportedImages\\DHP 15-minute 2022-10-29 14.50.48.png 1667029848.4095912\n",
      "C:\\\\Program Files\\\\AmiBroker\\\\ExportedImages\\DMC 15-minute 2022-10-29 14.50.49.png 1667029849.9106104\n",
      "C:\\\\Program Files\\\\AmiBroker\\\\ExportedImages\\DNA 15-minute 2022-10-29 14.50.49.png 1667029849.4258873\n",
      "C:\\\\Program Files\\\\AmiBroker\\\\ExportedImages\\DNC 15-minute 2022-10-29 14.50.49.png 1667029849.6672692\n",
      "C:\\\\Program Files\\\\AmiBroker\\\\ExportedImages\\DPH 15-minute 2022-10-29 14.50.50.png 1667029851.0906558\n",
      "C:\\\\Program Files\\\\AmiBroker\\\\ExportedImages\\EVS 15-minute 2022-10-29 14.50.53.png 1667029853.188409\n",
      "C:\\\\Program Files\\\\AmiBroker\\\\ExportedImages\\FBC 15-minute 2022-10-29 14.50.53.png 1667029853.67741\n",
      "C:\\\\Program Files\\\\AmiBroker\\\\ExportedImages\\FID 15-minute 2022-10-29 14.50.53.png 1667029853.4304094\n",
      "C:\\\\Program Files\\\\AmiBroker\\\\ExportedImages\\FUESSV50 15-minute 2022-10-29 14.50.54.png 1667029854.8668106\n",
      "C:\\\\Program Files\\\\AmiBroker\\\\ExportedImages\\GTH 15-minute 2022-10-29 14.50.56.png 1667029856.239835\n",
      "C:\\\\Program Files\\\\AmiBroker\\\\ExportedImages\\HAP 15-minute 2022-10-29 14.50.56.png 1667029856.4838054\n",
      "C:\\\\Program Files\\\\AmiBroker\\\\ExportedImages\\HES 15-minute 2022-10-29 14.50.58.png 1667029858.2926517\n",
      "C:\\\\Program Files\\\\AmiBroker\\\\ExportedImages\\HII 15-minute 2022-10-29 14.50.58.png 1667029858.549859\n",
      "C:\\\\Program Files\\\\AmiBroker\\\\ExportedImages\\HLS 15-minute 2022-10-29 14.50.59.png 1667029859.4588115\n",
      "C:\\\\Program Files\\\\AmiBroker\\\\ExportedImages\\HLY 15-minute 2022-10-29 14.50.59.png 1667029859.94232\n",
      "C:\\\\Program Files\\\\AmiBroker\\\\ExportedImages\\HNB 15-minute 2022-10-29 14.50.59.png 1667029859.702725\n",
      "C:\\\\Program Files\\\\AmiBroker\\\\ExportedImages\\HSP 15-minute 2022-10-29 14.51.01.png 1667029861.3495703\n",
      "C:\\\\Program Files\\\\AmiBroker\\\\ExportedImages\\HTU 15-minute 2022-10-29 14.51.02.png 1667029862.5223377\n",
      "C:\\\\Program Files\\\\AmiBroker\\\\ExportedImages\\IDP 15-minute 2022-10-29 14.51.02.png 1667029862.7641368\n",
      "C:\\\\Program Files\\\\AmiBroker\\\\ExportedImages\\ILS 15-minute 2022-10-29 14.51.04.png 1667029864.6525214\n",
      "C:\\\\Program Files\\\\AmiBroker\\\\ExportedImages\\ITQ 15-minute 2022-10-29 14.51.04.png 1667029864.4109552\n",
      "C:\\\\Program Files\\\\AmiBroker\\\\ExportedImages\\JVC 15-minute 2022-10-29 14.51.04.png 1667029864.1689537\n",
      "C:\\\\Program Files\\\\AmiBroker\\\\ExportedImages\\KBC 15-minute 2022-10-29 14.51.05.png 1667029865.3606622\n",
      "C:\\\\Program Files\\\\AmiBroker\\\\ExportedImages\\KLB 15-minute 2022-10-29 14.51.06.png 1667029866.4753675\n",
      "C:\\\\Program Files\\\\AmiBroker\\\\ExportedImages\\latest.png 1666980823.8630767\n",
      "C:\\\\Program Files\\\\AmiBroker\\\\ExportedImages\\LMI 15-minute 2022-10-29 14.51.07.png 1667029868.122503\n",
      "C:\\\\Program Files\\\\AmiBroker\\\\ExportedImages\\NAU 15-minute 2022-10-29 14.51.10.png 1667029870.8846302\n",
      "C:\\\\Program Files\\\\AmiBroker\\\\ExportedImages\\NDP 15-minute 2022-10-29 14.51.11.png 1667029871.4587176\n",
      "C:\\\\Program Files\\\\AmiBroker\\\\ExportedImages\\PAS 15-minute 2022-10-29 14.51.13.png 1667029873.4795375\n",
      "C:\\\\Program Files\\\\AmiBroker\\\\ExportedImages\\PCC 15-minute 2022-10-29 14.51.13.png 1667029873.7203262\n",
      "C:\\\\Program Files\\\\AmiBroker\\\\ExportedImages\\PME 15-minute 2022-10-29 14.51.14.png 1667029874.710176\n",
      "C:\\\\Program Files\\\\AmiBroker\\\\ExportedImages\\PMJ 15-minute 2022-10-29 14.51.14.png 1667029875.2771752\n",
      "C:\\\\Program Files\\\\AmiBroker\\\\ExportedImages\\PNT 15-minute 2022-10-29 14.51.16.png 1667029876.9275644\n",
      "C:\\\\Program Files\\\\AmiBroker\\\\ExportedImages\\PSI 15-minute 2022-10-29 14.51.17.png 1667029878.1215649\n",
      "C:\\\\Program Files\\\\AmiBroker\\\\ExportedImages\\SAL 15-minute 2022-10-29 14.51.20.png 1667029880.7898288\n",
      "C:\\\\Program Files\\\\AmiBroker\\\\ExportedImages\\SAV 15-minute 2022-10-29 14.51.20.png 1667029880.5508296\n",
      "C:\\\\Program Files\\\\AmiBroker\\\\ExportedImages\\STG 15-minute 2022-10-29 14.51.23.png 1667029883.4899857\n",
      "C:\\\\Program Files\\\\AmiBroker\\\\ExportedImages\\TBR 15-minute 2022-10-29 14.51.24.png 1667029884.4859862\n",
      "C:\\\\Program Files\\\\AmiBroker\\\\ExportedImages\\test - Copy.png 1666979334.4741924\n",
      "C:\\\\Program Files\\\\AmiBroker\\\\ExportedImages\\test.png 1666891260.9053042\n",
      "C:\\\\Program Files\\\\AmiBroker\\\\ExportedImages\\test123 - Copy.png 1666979334.476192\n",
      "C:\\\\Program Files\\\\AmiBroker\\\\ExportedImages\\test123.png 1666893294.6963706\n",
      "C:\\\\Program Files\\\\AmiBroker\\\\ExportedImages\\test12345 - Copy.png 1666979334.4781919\n",
      "C:\\\\Program Files\\\\AmiBroker\\\\ExportedImages\\test12345.png 1666893362.905187\n",
      "C:\\\\Program Files\\\\AmiBroker\\\\ExportedImages\\test1234567 - Copy.png 1666979334.481192\n",
      "C:\\\\Program Files\\\\AmiBroker\\\\ExportedImages\\test1234567.png 1666980155.4916377\n",
      "C:\\\\Program Files\\\\AmiBroker\\\\ExportedImages\\TIX 15-minute 2022-10-29 14.51.26.png 1667029886.6899476\n",
      "C:\\\\Program Files\\\\AmiBroker\\\\ExportedImages\\TJC 15-minute 2022-10-29 14.51.26.png 1667029886.445948\n",
      "C:\\\\Program Files\\\\AmiBroker\\\\ExportedImages\\TPS 15-minute 2022-10-29 14.51.27.png 1667029887.7005916\n",
      "C:\\\\Program Files\\\\AmiBroker\\\\ExportedImages\\TSB 15-minute 2022-10-29 14.51.27.png 1667029887.4555912\n",
      "C:\\\\Program Files\\\\AmiBroker\\\\ExportedImages\\TUG 15-minute 2022-10-29 14.51.28.png 1667029888.6445906\n",
      "C:\\\\Program Files\\\\AmiBroker\\\\ExportedImages\\TV1 15-minute 2022-10-29 14.51.28.png 1667029889.4599712\n",
      "C:\\\\Program Files\\\\AmiBroker\\\\ExportedImages\\TV4 15-minute 2022-10-29 14.51.28.png 1667029888.8875911\n",
      "C:\\\\Program Files\\\\AmiBroker\\\\ExportedImages\\VCB 10-29-2022 1.30.33 AM.png 1666981833.7421873\n",
      "C:\\\\Program Files\\\\AmiBroker\\\\ExportedImages\\VCB 30-minute 10-29-2022 1.33.21 AM.png 1666982001.2110248\n",
      "C:\\\\Program Files\\\\AmiBroker\\\\ExportedImages\\VCB-10_29_2022 1.27.32 AM.png 1666981706.4656987\n",
      "C:\\\\Program Files\\\\AmiBroker\\\\ExportedImages\\VCB.png 1666980935.2828913\n",
      "C:\\\\Program Files\\\\AmiBroker\\\\ExportedImages\\VCB2.87943e+028.png 1666981006.4319086\n",
      "C:\\\\Program Files\\\\AmiBroker\\\\ExportedImages\\VCB_2.879448e+028.png 1666981076.9209056\n",
      "C:\\\\Program Files\\\\AmiBroker\\\\ExportedImages\\VCB_2.879548e+028.png 1666981472.5472236\n",
      "C:\\\\Program Files\\\\AmiBroker\\\\ExportedImages\\VCR 15-minute 2022-10-29 14.51.30.png 1667029891.1399822\n",
      "C:\\\\Program Files\\\\AmiBroker\\\\ExportedImages\\VDP 15-minute 2022-10-29 14.51.30.png 1667029890.8992858\n",
      "C:\\\\Program Files\\\\AmiBroker\\\\ExportedImages\\VE1 15-minute 2022-10-29 14.51.30.png 1667029891.3830757\n",
      "C:\\\\Program Files\\\\AmiBroker\\\\ExportedImages\\VHL 15-minute 2022-10-29 14.51.32.png 1667029892.7220745\n",
      "C:\\\\Program Files\\\\AmiBroker\\\\ExportedImages\\VHM 30-minute 10-29-2022 11.28.37 AM.png 1667017717.652986\n",
      "C:\\\\Program Files\\\\AmiBroker\\\\ExportedImages\\VHM 30-minute 10-29-2022 11.31.04 AM.png 1667017864.630247\n",
      "C:\\\\Program Files\\\\AmiBroker\\\\ExportedImages\\VHM 30-minute 10-29-2022 11.31.50 AM.png 1667017910.3400562\n",
      "C:\\\\Program Files\\\\AmiBroker\\\\ExportedImages\\VHM 30-minute 2022-10-29 11.37.08.png 1667018228.9266577\n",
      "C:\\\\Program Files\\\\AmiBroker\\\\ExportedImages\\VHM 30-minute 2022-10-29 14.16.59.png 1667027819.5113852\n",
      "C:\\\\Program Files\\\\AmiBroker\\\\ExportedImages\\VHM 30-minute 2022-10-29 14.18.50.png 1667027930.7981772\n",
      "C:\\\\Program Files\\\\AmiBroker\\\\ExportedImages\\VHM 30-minute 2022-10-29 14.48.35.png 1667029715.4936147\n",
      "C:\\\\Program Files\\\\AmiBroker\\\\ExportedImages\\VIB 30-minute 2022-10-29 14.47.55.png 1667029675.7410166\n",
      "C:\\\\Program Files\\\\AmiBroker\\\\ExportedImages\\VN30F1M 30-minute 10-29-2022 1.34.15 AM.png 1666982055.261231\n",
      "C:\\\\Program Files\\\\AmiBroker\\\\ExportedImages\\VN30F1M 30-minute 10-29-2022 11.28.17 AM.png 1667017697.8796494\n",
      "C:\\\\Program Files\\\\AmiBroker\\\\ExportedImages\\VN30INDEX 30-minute 2022-10-29 14.49.45.png 1667029785.8350675\n",
      "C:\\\\Program Files\\\\AmiBroker\\\\ExportedImages\\VNA 15-minute 2022-10-29 14.51.34.png 1667029894.3553758\n",
      "C:\\\\Program Files\\\\AmiBroker\\\\ExportedImages\\VRC 15-minute 2022-10-29 14.51.36.png 1667029897.1552942\n"
     ]
    }
   ],
   "source": [
    "import glob\n",
    "import os.path\n",
    "\n",
    "folder_path = r'C:\\\\Program Files\\\\AmiBroker\\\\ExportedImages'\n",
    "file_type = r'\\*png'\n",
    "files = glob.glob(folder_path + file_type)\n",
    "\n",
    "\n",
    "for i in files:\n",
    "    print(i, os.path.getctime(i))\n",
    "    \n",
    "# os.path.dirname(items))\n",
    "#         print(\"    *Created Time: \",os.path.getctime(items))\n",
    "#         print(\"    *Modified Time: \",os.path.getmtime(items))\n",
    "#         print(\"    *Size: \",os.path.getsize(items))os.path.dirname(items))\n",
    "#         print(\"    *Created Time: \",os.path.getctime(items))\n",
    "#         print(\"    *Modified Time: \",os.path.getmtime(items))\n",
    "#         print(\"    *Size: \",os.path.getsize(items))    \n",
    "    \n",
    "    \n",
    "# max_file = max(files, key=os.path.getctime)\n",
    "# min_file = min(files, key=os.path.getctime)\n",
    "# print(max_file)\n",
    "# print(min_file)\n",
    "# print(os.path.getctime)"
   ]
  },
  {
   "cell_type": "code",
   "execution_count": 26,
   "metadata": {},
   "outputs": [],
   "source": [
    "import requests\n",
    "import glob\n",
    "import os.path\n",
    "\n",
    "\n",
    "TelegramAPI_ID = \"1200942736:AAEG8y9qyJ7aHefUm4vt_xKqkNBxfKd3qCc\";\n",
    "# TelgramCHAT_ID = \"@Victor_AlgoTrading\";\n",
    "TelgramCHAT_ID= \"@Victor_realtime\"\n",
    "\n",
    "\n",
    "folder_path = r'C:\\\\Program Files\\\\AmiBroker\\\\ExportedImages'\n",
    "file_type = r'\\*png'\n",
    "files = glob.glob(folder_path + file_type)\n",
    "\n",
    "for i in files:\n",
    "    # print(i)\n",
    "# max_file = max(files, key=os.path.getctime)\n",
    "# min_file = min(files, key=os.path.getctime)\n",
    "\n",
    "    photo = open(i, 'rb')\n",
    "    files = {'photo':photo}\n",
    "    resp = requests.post(\"https://api.telegram.org/bot\"+ TelegramAPI_ID + \"/sendPhoto?chat_id=\"+TelgramCHAT_ID, files=files)\n",
    "    photo.close()\n",
    "    \n",
    "# print(resp)\n",
    "# print(max_file)\n",
    "# print(min_file)"
   ]
  },
  {
   "cell_type": "code",
   "execution_count": 13,
   "metadata": {},
   "outputs": [
    {
     "name": "stdout",
     "output_type": "stream",
     "text": [
      "ctime since the epoch: 1627064611.2475388\n",
      "ctime (Local time): Sat Jul 24 01:23:31 2021\n"
     ]
    }
   ],
   "source": []
  }
 ],
 "metadata": {
  "kernelspec": {
   "display_name": "Python 3.9.1 64-bit",
   "language": "python",
   "name": "python3"
  },
  "language_info": {
   "codemirror_mode": {
    "name": "ipython",
    "version": 3
   },
   "file_extension": ".py",
   "mimetype": "text/x-python",
   "name": "python",
   "nbconvert_exporter": "python",
   "pygments_lexer": "ipython3",
   "version": "3.9.1"
  },
  "orig_nbformat": 4,
  "vscode": {
   "interpreter": {
    "hash": "d364dc34e09ea6fa80f688b19ca56ef67ae2b69d7f0f943548bdb14c989450c4"
   }
  }
 },
 "nbformat": 4,
 "nbformat_minor": 2
}
