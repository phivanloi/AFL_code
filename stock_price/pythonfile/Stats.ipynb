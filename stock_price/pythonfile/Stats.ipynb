{
 "cells": [
  {
   "cell_type": "code",
   "execution_count": 5,
   "metadata": {},
   "outputs": [],
   "source": [
    "\n",
    "import pandas as pd \n",
    "import os\n",
    "\n",
    "\n",
    "file = \"/Users/Admins/Desktop/stock_price/test_atuo.csv\" \n",
    "\n",
    "df = pd.read_csv(file)"
   ]
  },
  {
   "cell_type": "code",
   "execution_count": 6,
   "metadata": {},
   "outputs": [
    {
     "name": "stdout",
     "output_type": "stream",
     "text": [
      "  Ticker             Date/Time             Datetime  tin_hieu   Open   High  \\\n",
      "0    ACB   6/1/2022 9:15:00 AM  2022-06-01 09:15:00         0  31.80  31.80   \n",
      "1    ACB   6/1/2022 9:30:00 AM  2022-06-01 09:30:00         0  31.70  31.70   \n",
      "2    ACB   6/1/2022 9:45:00 AM  2022-06-01 09:45:00         0  31.65  31.80   \n",
      "3    ACB  6/1/2022 10:00:00 AM  2022-06-01 10:00:00         0  31.75  31.75   \n",
      "4    ACB  6/1/2022 10:15:00 AM  2022-06-01 10:15:00         0  31.70  31.70   \n",
      "\n",
      "     Low  Close  Volume    Value  ...  Pivot Weekly  Support 1 Weekly  \\\n",
      "0  31.60  31.70   76800  2434560  ...           NaN               NaN   \n",
      "1  31.50  31.70  160200  5078340  ...           NaN               NaN   \n",
      "2  31.65  31.75  234000  7429500  ...           NaN               NaN   \n",
      "3  31.65  31.65  198900  6295185  ...           NaN               NaN   \n",
      "4  31.60  31.65  182800  5785620  ...           NaN               NaN   \n",
      "\n",
      "   Support 2 Weekly  Resistance 1 Weekly  Resistance 2 Weekly  Pivot Weekly.1  \\\n",
      "0               NaN                  NaN                  NaN             NaN   \n",
      "1               NaN                  NaN                  NaN             NaN   \n",
      "2               NaN                  NaN                  NaN             NaN   \n",
      "3               NaN                  NaN                  NaN             NaN   \n",
      "4               NaN                  NaN                  NaN             NaN   \n",
      "\n",
      "   Support 1 Monthly  Support 2 Monthly  Resistance 1 Monthly  \\\n",
      "0                NaN                NaN                   NaN   \n",
      "1                NaN                NaN                   NaN   \n",
      "2                NaN                NaN                   NaN   \n",
      "3                NaN                NaN                   NaN   \n",
      "4                NaN                NaN                   NaN   \n",
      "\n",
      "   Resistance 2 Monthly  \n",
      "0                   NaN  \n",
      "1                   NaN  \n",
      "2                   NaN  \n",
      "3                   NaN  \n",
      "4                   NaN  \n",
      "\n",
      "[5 rows x 39 columns]\n",
      "(56028, 39)\n",
      "      Ticker              Date/Time             Datetime  tin_hieu   Open  \\\n",
      "56023    VRE  10/21/2022 1:45:00 PM  2022-10-21 13:45:00         0  24.00   \n",
      "56024    VRE  10/21/2022 2:00:00 PM  2022-10-21 14:00:00         0  24.10   \n",
      "56025    VRE  10/21/2022 2:15:00 PM  2022-10-21 14:15:00         0  24.00   \n",
      "56026    VRE  10/21/2022 2:30:00 PM  2022-10-21 14:30:00         0  24.05   \n",
      "56027    VRE  10/21/2022 2:45:00 PM  2022-10-21 14:45:00         0  24.00   \n",
      "\n",
      "        High    Low  Close  Volume    Value  ...  Pivot Weekly  \\\n",
      "56023  24.15  24.00  24.00   13700   328800  ...         29.12   \n",
      "56024  24.15  24.00  24.00   91400  2193600  ...         28.53   \n",
      "56025  24.15  24.00  24.15  130600  3153990  ...         27.57   \n",
      "56026  24.05  24.05  24.05    3000    72150  ...         26.27   \n",
      "56027  24.00  24.00  24.00   66900  1605600  ...         24.80   \n",
      "\n",
      "       Support 1 Weekly  Support 2 Weekly  Resistance 1 Weekly  \\\n",
      "56023             28.38             26.92                30.58   \n",
      "56024             27.72             26.93                29.32   \n",
      "56025             26.93             25.87                28.63   \n",
      "56026             24.63             23.27                27.63   \n",
      "56027             22.40             19.60                27.60   \n",
      "\n",
      "       Resistance 2 Weekly  Pivot Weekly.1  Support 1 Monthly  \\\n",
      "56023                31.32           28.67              26.58   \n",
      "56024                30.13           28.87              26.83   \n",
      "56025                29.27           27.37              25.78   \n",
      "56026                29.27           28.38              27.02   \n",
      "56027                30.00           28.12              26.38   \n",
      "\n",
      "       Support 2 Monthly  Resistance 1 Monthly  Resistance 2 Monthly  \n",
      "56023              23.02                 32.23                 34.32  \n",
      "56024              25.12                 30.58                 32.62  \n",
      "56025              23.57                 29.58                 31.17  \n",
      "56026              26.33                 29.07                 30.43  \n",
      "56027              24.77                 29.73                 31.47  \n",
      "\n",
      "[5 rows x 39 columns]\n"
     ]
    }
   ],
   "source": [
    "print(df.head(5))\n",
    "print(df.shape)\n",
    "print(df.tail(5))"
   ]
  },
  {
   "cell_type": "code",
   "execution_count": 7,
   "metadata": {},
   "outputs": [
    {
     "name": "stdout",
     "output_type": "stream",
     "text": [
      "['ACB' 'BID' 'BVH' 'CTG' 'FPT' 'GAS' 'GVR' 'HDB' 'HPG' 'KDH' 'MBB' 'MSN'\n",
      " 'MWG' 'NVL' 'PDR' 'PLX' 'PNJ' 'POW' 'SAB' 'SSI' 'STB' 'TCB' 'TPB' 'VCB'\n",
      " 'VHM' 'VIC' 'VJC' 'VN30INDEX' 'VN30F1M' 'VNINDEX' 'VNM' 'VPB' 'VRE']\n",
      "33\n"
     ]
    }
   ],
   "source": [
    "print(df['Ticker'].unique())\n",
    "print(df['Ticker'].nunique())"
   ]
  },
  {
   "cell_type": "code",
   "execution_count": 77,
   "metadata": {},
   "outputs": [],
   "source": [
    "df['Datetime'] = pd.to_datetime(df['Datetime'], format=\"%Y-%m-%d %H:%M:%S\")"
   ]
  },
  {
   "cell_type": "code",
   "execution_count": 79,
   "metadata": {},
   "outputs": [
    {
     "name": "stdout",
     "output_type": "stream",
     "text": [
      "<class 'pandas.core.frame.DataFrame'>\n",
      "RangeIndex: 56028 entries, 0 to 56027\n",
      "Data columns (total 39 columns):\n",
      " #   Column                Non-Null Count  Dtype         \n",
      "---  ------                --------------  -----         \n",
      " 0   Ticker                56028 non-null  object        \n",
      " 1   Date/Time             56028 non-null  object        \n",
      " 2   Datetime              56028 non-null  datetime64[ns]\n",
      " 3   tin_hieu              56028 non-null  int64         \n",
      " 4   Open                  56028 non-null  float64       \n",
      " 5   High                  56028 non-null  float64       \n",
      " 6   Low                   56028 non-null  float64       \n",
      " 7   Close                 56028 non-null  float64       \n",
      " 8   Volume                56028 non-null  int64         \n",
      " 9   Value                 56028 non-null  int64         \n",
      " 10  Spread                56028 non-null  float64       \n",
      " 11  ATR5                  56028 non-null  float64       \n",
      " 12  ATR10                 56028 non-null  float64       \n",
      " 13  ATR20                 56028 non-null  float64       \n",
      " 14  HHV                   56028 non-null  float64       \n",
      " 15  HHVBar                56028 non-null  float64       \n",
      " 16  LLV                   56028 non-null  float64       \n",
      " 17  LLVBar                56028 non-null  float64       \n",
      " 18  Trough                54398 non-null  float64       \n",
      " 19  TroughBar             54398 non-null  float64       \n",
      " 20  LLV.1                 56028 non-null  float64       \n",
      " 21  LLVBar.1              56028 non-null  float64       \n",
      " 22  Pivot Daily           39321 non-null  float64       \n",
      " 23  Support 1 Daily       39321 non-null  float64       \n",
      " 24  Support 2 Daily       39321 non-null  float64       \n",
      " 25  Support 2 Daily.1     39321 non-null  float64       \n",
      " 26  Resistance 1 Daily    39321 non-null  float64       \n",
      " 27  Resistance 2 Daily    39321 non-null  float64       \n",
      " 28  Resistance 3 Daily    39321 non-null  float64       \n",
      " 29  Pivot Weekly          8159 non-null   float64       \n",
      " 30  Support 1 Weekly      8159 non-null   float64       \n",
      " 31  Support 2 Weekly      8159 non-null   float64       \n",
      " 32  Resistance 1 Weekly   8159 non-null   float64       \n",
      " 33  Resistance 2 Weekly   8159 non-null   float64       \n",
      " 34  Pivot Weekly.1        1892 non-null   float64       \n",
      " 35  Support 1 Monthly     1892 non-null   float64       \n",
      " 36  Support 2 Monthly     1892 non-null   float64       \n",
      " 37  Resistance 1 Monthly  1892 non-null   float64       \n",
      " 38  Resistance 2 Monthly  1892 non-null   float64       \n",
      "dtypes: datetime64[ns](1), float64(33), int64(3), object(2)\n",
      "memory usage: 16.7+ MB\n"
     ]
    }
   ],
   "source": [
    "df.info()"
   ]
  },
  {
   "cell_type": "code",
   "execution_count": 88,
   "metadata": {},
   "outputs": [
    {
     "name": "stdout",
     "output_type": "stream",
     "text": [
      "Tp90 of ACB =  0.0\n",
      "Tp90 of BID =  0.0\n",
      "Tp90 of BVH =  0.0\n",
      "Tp90 of CTG =  0.0\n",
      "Tp90 of FPT =  0.0\n",
      "Tp90 of GAS =  0.0\n",
      "Tp90 of GVR =  0.0\n",
      "Tp90 of HDB =  0.0\n",
      "Tp90 of HPG =  0.0\n",
      "Tp90 of KDH =  0.0\n",
      "Tp90 of MBB =  0.0\n",
      "Tp90 of MSN =  0.0\n",
      "Tp90 of MWG =  0.0\n",
      "Tp90 of NVL =  0.0\n",
      "Tp90 of PDR =  0.0\n",
      "Tp90 of PLX =  0.0\n",
      "Tp90 of PNJ =  0.0\n",
      "Tp90 of POW =  0.0\n",
      "Tp90 of SAB =  0.0\n",
      "Tp90 of SSI =  0.0\n",
      "Tp90 of STB =  0.0\n",
      "Tp90 of TCB =  0.0\n",
      "Tp90 of TPB =  0.0\n",
      "Tp90 of VCB =  0.0\n",
      "Tp90 of VHM =  0.0\n",
      "Tp90 of VIC =  0.0\n",
      "Tp90 of VJC =  0.0\n",
      "Tp90 of VN30INDEX =  0.0\n",
      "Tp90 of VN30F1M =  0.0\n",
      "Tp90 of VNINDEX =  0.0\n",
      "Tp90 of VNM =  0.0\n",
      "Tp90 of VPB =  0.0\n",
      "Tp90 of VRE =  0.0\n"
     ]
    }
   ],
   "source": [
    "import scipy\n",
    "import numpy as np\n",
    "from datetime import datetime\n",
    "\n",
    "# print(dir(scipy))    \n",
    "# print(scipy.__doc__)\n",
    "# print(help(scipy))\n",
    "# print(np.percentile.__doc__)\n",
    "# df.info()\n",
    "\n",
    "\n",
    "df['Spread'] = df['Spread'].astype('float64')\n",
    "for i in df['Ticker'].unique():\n",
    "    tp = np.percentile(df['Spread'], 0.9)\n",
    "    print(f\"Tp90 of {i} =  {tp}\")\n",
    "\n",
    "# df['Datetime'].astype(\"str\")\n",
    "\n",
    "# print(df['Datetime'].astype.__doc__)              \n",
    "\n",
    "# df['Datetime'].dtype()\n",
    "\n"
   ]
  },
  {
   "cell_type": "code",
   "execution_count": 75,
   "metadata": {},
   "outputs": [],
   "source": [
    "class mydecision:\n",
    "    def __init__(self, vi, machine):\n",
    "        self.vi=vi\n",
    "        self.machine=machine\n",
    "    \n",
    "    def decision(self):\n",
    "        if self.vi==\"VN30\":\n",
    "            print(\"Vi quyet dinh\")\n",
    "        elif self.machine==\"VNINDEX\":\n",
    "            print(\"May quyet dinh\")\n",
    "        else:\n",
    "            print(\"Deo ai quyet dinh\")\n",
    "        \n",
    "    def inten(self, ten:str):\n",
    "        return f\"Ten cua {self.vi} and {self.machine} and {ten}\", \"Test OOP\"\n",
    "    \n",
    "\n",
    "            \n",
    "        \n",
    "        \n"
   ]
  },
  {
   "cell_type": "code",
   "execution_count": 67,
   "metadata": {},
   "outputs": [],
   "source": [
    "class timhieu(mydecision):\n",
    "    pass"
   ]
  },
  {
   "cell_type": "code",
   "execution_count": 89,
   "metadata": {},
   "outputs": [
    {
     "data": {
      "text/plain": [
       "('Ten cua VN30 and VN30 and Hihi',)"
      ]
     },
     "execution_count": 89,
     "metadata": {},
     "output_type": "execute_result"
    }
   ],
   "source": [
    "mydecision(\"VN30\", \"VN30\").inten(\"Hihi\")"
   ]
  },
  {
   "cell_type": "code",
   "execution_count": 71,
   "metadata": {},
   "outputs": [
    {
     "data": {
      "text/plain": [
       "'<__main__.mydecision object at 0x00000297FC860C70>'"
      ]
     },
     "execution_count": 71,
     "metadata": {},
     "output_type": "execute_result"
    }
   ],
   "source": [
    "mydecision(\"VN30\", \"VN30\").super()"
   ]
  },
  {
   "cell_type": "code",
   "execution_count": 69,
   "metadata": {},
   "outputs": [
    {
     "ename": "AttributeError",
     "evalue": "'timhieu' object has no attribute '__main__'",
     "output_type": "error",
     "traceback": [
      "\u001b[1;31m---------------------------------------------------------------------------\u001b[0m",
      "\u001b[1;31mAttributeError\u001b[0m                            Traceback (most recent call last)",
      "\u001b[1;32m<ipython-input-69-0da08b99e262>\u001b[0m in \u001b[0;36m<module>\u001b[1;34m\u001b[0m\n\u001b[1;32m----> 1\u001b[1;33m \u001b[0mtimhieu\u001b[0m\u001b[1;33m(\u001b[0m\u001b[1;34m\"VN30\"\u001b[0m\u001b[1;33m,\u001b[0m \u001b[1;34m\"VN30\"\u001b[0m\u001b[1;33m)\u001b[0m\u001b[1;33m.\u001b[0m\u001b[0m__main__\u001b[0m\u001b[1;33m(\u001b[0m\u001b[1;33m)\u001b[0m\u001b[1;33m\u001b[0m\u001b[1;33m\u001b[0m\u001b[0m\n\u001b[0m",
      "\u001b[1;31mAttributeError\u001b[0m: 'timhieu' object has no attribute '__main__'"
     ]
    }
   ],
   "source": [
    "timhieu(\"VN30\", \"VN30\").__main__()"
   ]
  }
 ],
 "metadata": {
  "kernelspec": {
   "display_name": "Python 3.9.1 64-bit",
   "language": "python",
   "name": "python3"
  },
  "language_info": {
   "codemirror_mode": {
    "name": "ipython",
    "version": 3
   },
   "file_extension": ".py",
   "mimetype": "text/x-python",
   "name": "python",
   "nbconvert_exporter": "python",
   "pygments_lexer": "ipython3",
   "version": "3.9.1"
  },
  "orig_nbformat": 4,
  "vscode": {
   "interpreter": {
    "hash": "d364dc34e09ea6fa80f688b19ca56ef67ae2b69d7f0f943548bdb14c989450c4"
   }
  }
 },
 "nbformat": 4,
 "nbformat_minor": 2
}
